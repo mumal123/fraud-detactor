{
 "cells": [
  {
   "cell_type": "code",
   "execution_count": 2,
   "id": "5b84964d",
   "metadata": {},
   "outputs": [],
   "source": [
    "import pandas as pd\n",
    "import numpy as np\n",
    "import seaborn as sns\n",
    "import matplotlib.pyplot as plt"
   ]
  },
  {
   "cell_type": "code",
   "execution_count": 3,
   "id": "1baa50af",
   "metadata": {},
   "outputs": [
    {
     "data": {
      "text/plain": [
       "(5000, 13)"
      ]
     },
     "execution_count": 3,
     "metadata": {},
     "output_type": "execute_result"
    }
   ],
   "source": [
    "df=pd.read_csv('synthetic_ecommerce_churn_dataset.csv')\n",
    "og=pd.read_csv('synthetic_ecommerce_churn_dataset.csv')\n",
    "df.shape"
   ]
  },
  {
   "cell_type": "code",
   "execution_count": 4,
   "id": "f3319d19",
   "metadata": {},
   "outputs": [
    {
     "data": {
      "text/html": [
       "<div>\n",
       "<style scoped>\n",
       "    .dataframe tbody tr th:only-of-type {\n",
       "        vertical-align: middle;\n",
       "    }\n",
       "\n",
       "    .dataframe tbody tr th {\n",
       "        vertical-align: top;\n",
       "    }\n",
       "\n",
       "    .dataframe thead th {\n",
       "        text-align: right;\n",
       "    }\n",
       "</style>\n",
       "<table border=\"1\" class=\"dataframe\">\n",
       "  <thead>\n",
       "    <tr style=\"text-align: right;\">\n",
       "      <th></th>\n",
       "      <th>customer_id</th>\n",
       "      <th>age</th>\n",
       "      <th>gender</th>\n",
       "      <th>country</th>\n",
       "      <th>avg_order_value</th>\n",
       "      <th>total_orders</th>\n",
       "      <th>last_purchase</th>\n",
       "      <th>is_fraudulent</th>\n",
       "      <th>preferred_category</th>\n",
       "      <th>email_open_rate</th>\n",
       "      <th>customer_since</th>\n",
       "      <th>loyalty_score</th>\n",
       "      <th>churn_risk</th>\n",
       "    </tr>\n",
       "  </thead>\n",
       "  <tbody>\n",
       "    <tr>\n",
       "      <th>0</th>\n",
       "      <td>CUST_8270</td>\n",
       "      <td>30</td>\n",
       "      <td>Female</td>\n",
       "      <td>Brazil</td>\n",
       "      <td>101.08</td>\n",
       "      <td>8</td>\n",
       "      <td>176</td>\n",
       "      <td>1</td>\n",
       "      <td>Beauty</td>\n",
       "      <td>25.6</td>\n",
       "      <td>2024-06-05</td>\n",
       "      <td>50</td>\n",
       "      <td>0.20</td>\n",
       "    </tr>\n",
       "    <tr>\n",
       "      <th>1</th>\n",
       "      <td>CUST_1860</td>\n",
       "      <td>53</td>\n",
       "      <td>Female</td>\n",
       "      <td>USA</td>\n",
       "      <td>90.39</td>\n",
       "      <td>10</td>\n",
       "      <td>88</td>\n",
       "      <td>0</td>\n",
       "      <td>Electronics</td>\n",
       "      <td>12.3</td>\n",
       "      <td>2024-02-19</td>\n",
       "      <td>37</td>\n",
       "      <td>0.34</td>\n",
       "    </tr>\n",
       "    <tr>\n",
       "      <th>2</th>\n",
       "      <td>CUST_6390</td>\n",
       "      <td>73</td>\n",
       "      <td>Male</td>\n",
       "      <td>Australia</td>\n",
       "      <td>83.28</td>\n",
       "      <td>6</td>\n",
       "      <td>203</td>\n",
       "      <td>0</td>\n",
       "      <td>Sports</td>\n",
       "      <td>NaN</td>\n",
       "      <td>2024-04-16</td>\n",
       "      <td>65</td>\n",
       "      <td>0.05</td>\n",
       "    </tr>\n",
       "    <tr>\n",
       "      <th>3</th>\n",
       "      <td>CUST_6191</td>\n",
       "      <td>30</td>\n",
       "      <td>Other</td>\n",
       "      <td>Japan</td>\n",
       "      <td>109.90</td>\n",
       "      <td>9</td>\n",
       "      <td>346</td>\n",
       "      <td>1</td>\n",
       "      <td>Electronics</td>\n",
       "      <td>42.9</td>\n",
       "      <td>2020-07-08</td>\n",
       "      <td>93</td>\n",
       "      <td>0.19</td>\n",
       "    </tr>\n",
       "    <tr>\n",
       "      <th>4</th>\n",
       "      <td>CUST_6734</td>\n",
       "      <td>29</td>\n",
       "      <td>Female</td>\n",
       "      <td>Canada</td>\n",
       "      <td>269.38</td>\n",
       "      <td>16</td>\n",
       "      <td>342</td>\n",
       "      <td>0</td>\n",
       "      <td>Fashion</td>\n",
       "      <td>5.3</td>\n",
       "      <td>2025-04-09</td>\n",
       "      <td>79</td>\n",
       "      <td>0.15</td>\n",
       "    </tr>\n",
       "    <tr>\n",
       "      <th>...</th>\n",
       "      <td>...</td>\n",
       "      <td>...</td>\n",
       "      <td>...</td>\n",
       "      <td>...</td>\n",
       "      <td>...</td>\n",
       "      <td>...</td>\n",
       "      <td>...</td>\n",
       "      <td>...</td>\n",
       "      <td>...</td>\n",
       "      <td>...</td>\n",
       "      <td>...</td>\n",
       "      <td>...</td>\n",
       "      <td>...</td>\n",
       "    </tr>\n",
       "    <tr>\n",
       "      <th>4995</th>\n",
       "      <td>CUST_8533</td>\n",
       "      <td>49</td>\n",
       "      <td>Female</td>\n",
       "      <td>UK</td>\n",
       "      <td>132.16</td>\n",
       "      <td>9</td>\n",
       "      <td>306</td>\n",
       "      <td>0</td>\n",
       "      <td>Electronics</td>\n",
       "      <td>20.9</td>\n",
       "      <td>2020-10-17</td>\n",
       "      <td>13</td>\n",
       "      <td>0.33</td>\n",
       "    </tr>\n",
       "    <tr>\n",
       "      <th>4996</th>\n",
       "      <td>CUST_5616</td>\n",
       "      <td>23</td>\n",
       "      <td>Female</td>\n",
       "      <td>UK</td>\n",
       "      <td>47.81</td>\n",
       "      <td>10</td>\n",
       "      <td>296</td>\n",
       "      <td>0</td>\n",
       "      <td>Home</td>\n",
       "      <td>NaN</td>\n",
       "      <td>2024-10-21</td>\n",
       "      <td>66</td>\n",
       "      <td>0.22</td>\n",
       "    </tr>\n",
       "    <tr>\n",
       "      <th>4997</th>\n",
       "      <td>CUST_2140</td>\n",
       "      <td>79</td>\n",
       "      <td>Male</td>\n",
       "      <td>Japan</td>\n",
       "      <td>224.97</td>\n",
       "      <td>16</td>\n",
       "      <td>84</td>\n",
       "      <td>0</td>\n",
       "      <td>Beauty</td>\n",
       "      <td>92.9</td>\n",
       "      <td>2022-11-13</td>\n",
       "      <td>56</td>\n",
       "      <td>0.23</td>\n",
       "    </tr>\n",
       "    <tr>\n",
       "      <th>4998</th>\n",
       "      <td>CUST_6730</td>\n",
       "      <td>62</td>\n",
       "      <td>Male</td>\n",
       "      <td>USA</td>\n",
       "      <td>220.33</td>\n",
       "      <td>8</td>\n",
       "      <td>254</td>\n",
       "      <td>0</td>\n",
       "      <td>Fashion</td>\n",
       "      <td>83.8</td>\n",
       "      <td>2023-05-29</td>\n",
       "      <td>47</td>\n",
       "      <td>0.09</td>\n",
       "    </tr>\n",
       "    <tr>\n",
       "      <th>4999</th>\n",
       "      <td>CUST_8465</td>\n",
       "      <td>38</td>\n",
       "      <td>Male</td>\n",
       "      <td>Canada</td>\n",
       "      <td>75.57</td>\n",
       "      <td>6</td>\n",
       "      <td>326</td>\n",
       "      <td>0</td>\n",
       "      <td>Home</td>\n",
       "      <td>4.1</td>\n",
       "      <td>2021-09-02</td>\n",
       "      <td>77</td>\n",
       "      <td>0.49</td>\n",
       "    </tr>\n",
       "  </tbody>\n",
       "</table>\n",
       "<p>5000 rows × 13 columns</p>\n",
       "</div>"
      ],
      "text/plain": [
       "     customer_id  age  gender    country  avg_order_value  total_orders  \\\n",
       "0      CUST_8270   30  Female     Brazil           101.08             8   \n",
       "1      CUST_1860   53  Female        USA            90.39            10   \n",
       "2      CUST_6390   73    Male  Australia            83.28             6   \n",
       "3      CUST_6191   30   Other      Japan           109.90             9   \n",
       "4      CUST_6734   29  Female     Canada           269.38            16   \n",
       "...          ...  ...     ...        ...              ...           ...   \n",
       "4995   CUST_8533   49  Female         UK           132.16             9   \n",
       "4996   CUST_5616   23  Female         UK            47.81            10   \n",
       "4997   CUST_2140   79    Male      Japan           224.97            16   \n",
       "4998   CUST_6730   62    Male        USA           220.33             8   \n",
       "4999   CUST_8465   38    Male     Canada            75.57             6   \n",
       "\n",
       "      last_purchase  is_fraudulent preferred_category  email_open_rate  \\\n",
       "0               176              1             Beauty             25.6   \n",
       "1                88              0        Electronics             12.3   \n",
       "2               203              0             Sports              NaN   \n",
       "3               346              1        Electronics             42.9   \n",
       "4               342              0            Fashion              5.3   \n",
       "...             ...            ...                ...              ...   \n",
       "4995            306              0        Electronics             20.9   \n",
       "4996            296              0               Home              NaN   \n",
       "4997             84              0             Beauty             92.9   \n",
       "4998            254              0            Fashion             83.8   \n",
       "4999            326              0               Home              4.1   \n",
       "\n",
       "     customer_since  loyalty_score  churn_risk  \n",
       "0        2024-06-05             50        0.20  \n",
       "1        2024-02-19             37        0.34  \n",
       "2        2024-04-16             65        0.05  \n",
       "3        2020-07-08             93        0.19  \n",
       "4        2025-04-09             79        0.15  \n",
       "...             ...            ...         ...  \n",
       "4995     2020-10-17             13        0.33  \n",
       "4996     2024-10-21             66        0.22  \n",
       "4997     2022-11-13             56        0.23  \n",
       "4998     2023-05-29             47        0.09  \n",
       "4999     2021-09-02             77        0.49  \n",
       "\n",
       "[5000 rows x 13 columns]"
      ]
     },
     "execution_count": 4,
     "metadata": {},
     "output_type": "execute_result"
    }
   ],
   "source": [
    "df"
   ]
  },
  {
   "cell_type": "markdown",
   "id": "e2e580d0",
   "metadata": {},
   "source": [
    "Data Processing"
   ]
  },
  {
   "cell_type": "code",
   "execution_count": 5,
   "id": "cdad2915",
   "metadata": {},
   "outputs": [
    {
     "data": {
      "text/plain": [
       "customer_id             0\n",
       "age                     0\n",
       "gender                  0\n",
       "country                 0\n",
       "avg_order_value       250\n",
       "total_orders            0\n",
       "last_purchase           0\n",
       "is_fraudulent           0\n",
       "preferred_category      0\n",
       "email_open_rate       250\n",
       "customer_since          0\n",
       "loyalty_score           0\n",
       "churn_risk              0\n",
       "dtype: int64"
      ]
     },
     "execution_count": 5,
     "metadata": {},
     "output_type": "execute_result"
    }
   ],
   "source": [
    "df.isnull().sum()"
   ]
  },
  {
   "cell_type": "code",
   "execution_count": 6,
   "id": "6f08303c",
   "metadata": {},
   "outputs": [],
   "source": [
    "df=df.drop(columns=['customer_id'])"
   ]
  },
  {
   "cell_type": "code",
   "execution_count": 7,
   "id": "23f57967",
   "metadata": {},
   "outputs": [
    {
     "data": {
      "text/plain": [
       "(5000, 12)"
      ]
     },
     "execution_count": 7,
     "metadata": {},
     "output_type": "execute_result"
    }
   ],
   "source": [
    "df.shape"
   ]
  },
  {
   "cell_type": "code",
   "execution_count": 8,
   "id": "c970135e",
   "metadata": {},
   "outputs": [
    {
     "name": "stderr",
     "output_type": "stream",
     "text": [
      "C:\\Users\\Chirag\\AppData\\Local\\Temp\\ipykernel_15368\\1946112737.py:1: FutureWarning: A value is trying to be set on a copy of a DataFrame or Series through chained assignment using an inplace method.\n",
      "The behavior will change in pandas 3.0. This inplace method will never work because the intermediate object on which we are setting values always behaves as a copy.\n",
      "\n",
      "For example, when doing 'df[col].method(value, inplace=True)', try using 'df.method({col: value}, inplace=True)' or df[col] = df[col].method(value) instead, to perform the operation inplace on the original object.\n",
      "\n",
      "\n",
      "  df['avg_order_value'].fillna(df['avg_order_value'].median(), inplace=True)\n",
      "C:\\Users\\Chirag\\AppData\\Local\\Temp\\ipykernel_15368\\1946112737.py:2: FutureWarning: A value is trying to be set on a copy of a DataFrame or Series through chained assignment using an inplace method.\n",
      "The behavior will change in pandas 3.0. This inplace method will never work because the intermediate object on which we are setting values always behaves as a copy.\n",
      "\n",
      "For example, when doing 'df[col].method(value, inplace=True)', try using 'df.method({col: value}, inplace=True)' or df[col] = df[col].method(value) instead, to perform the operation inplace on the original object.\n",
      "\n",
      "\n",
      "  df['email_open_rate'].fillna(df['email_open_rate'].median(), inplace=True)\n"
     ]
    },
    {
     "data": {
      "text/plain": [
       "age                   0\n",
       "gender                0\n",
       "country               0\n",
       "avg_order_value       0\n",
       "total_orders          0\n",
       "last_purchase         0\n",
       "is_fraudulent         0\n",
       "preferred_category    0\n",
       "email_open_rate       0\n",
       "customer_since        0\n",
       "loyalty_score         0\n",
       "churn_risk            0\n",
       "dtype: int64"
      ]
     },
     "execution_count": 8,
     "metadata": {},
     "output_type": "execute_result"
    }
   ],
   "source": [
    "\n",
    "df['avg_order_value'].fillna(df['avg_order_value'].median(), inplace=True)\n",
    "df['email_open_rate'].fillna(df['email_open_rate'].median(), inplace=True)\n",
    "\n",
    "df.isnull().sum()\n"
   ]
  },
  {
   "cell_type": "code",
   "execution_count": 9,
   "id": "e7000884",
   "metadata": {},
   "outputs": [
    {
     "name": "stderr",
     "output_type": "stream",
     "text": [
      "C:\\Users\\Chirag\\AppData\\Local\\Temp\\ipykernel_15368\\3885996057.py:2: FutureWarning: Downcasting behavior in `replace` is deprecated and will be removed in a future version. To retain the old behavior, explicitly call `result.infer_objects(copy=False)`. To opt-in to the future behavior, set `pd.set_option('future.no_silent_downcasting', True)`\n",
      "  df=df.replace(gender_clean)\n"
     ]
    },
    {
     "data": {
      "text/html": [
       "<div>\n",
       "<style scoped>\n",
       "    .dataframe tbody tr th:only-of-type {\n",
       "        vertical-align: middle;\n",
       "    }\n",
       "\n",
       "    .dataframe tbody tr th {\n",
       "        vertical-align: top;\n",
       "    }\n",
       "\n",
       "    .dataframe thead th {\n",
       "        text-align: right;\n",
       "    }\n",
       "</style>\n",
       "<table border=\"1\" class=\"dataframe\">\n",
       "  <thead>\n",
       "    <tr style=\"text-align: right;\">\n",
       "      <th></th>\n",
       "      <th>age</th>\n",
       "      <th>gender</th>\n",
       "      <th>country</th>\n",
       "      <th>avg_order_value</th>\n",
       "      <th>total_orders</th>\n",
       "      <th>last_purchase</th>\n",
       "      <th>is_fraudulent</th>\n",
       "      <th>preferred_category</th>\n",
       "      <th>email_open_rate</th>\n",
       "      <th>customer_since</th>\n",
       "      <th>loyalty_score</th>\n",
       "      <th>churn_risk</th>\n",
       "    </tr>\n",
       "  </thead>\n",
       "  <tbody>\n",
       "    <tr>\n",
       "      <th>0</th>\n",
       "      <td>30</td>\n",
       "      <td>1</td>\n",
       "      <td>Brazil</td>\n",
       "      <td>101.08</td>\n",
       "      <td>8</td>\n",
       "      <td>176</td>\n",
       "      <td>1</td>\n",
       "      <td>Beauty</td>\n",
       "      <td>25.60</td>\n",
       "      <td>2024-06-05</td>\n",
       "      <td>50</td>\n",
       "      <td>0.20</td>\n",
       "    </tr>\n",
       "    <tr>\n",
       "      <th>1</th>\n",
       "      <td>53</td>\n",
       "      <td>1</td>\n",
       "      <td>USA</td>\n",
       "      <td>90.39</td>\n",
       "      <td>10</td>\n",
       "      <td>88</td>\n",
       "      <td>0</td>\n",
       "      <td>Electronics</td>\n",
       "      <td>12.30</td>\n",
       "      <td>2024-02-19</td>\n",
       "      <td>37</td>\n",
       "      <td>0.34</td>\n",
       "    </tr>\n",
       "    <tr>\n",
       "      <th>2</th>\n",
       "      <td>73</td>\n",
       "      <td>0</td>\n",
       "      <td>Australia</td>\n",
       "      <td>83.28</td>\n",
       "      <td>6</td>\n",
       "      <td>203</td>\n",
       "      <td>0</td>\n",
       "      <td>Sports</td>\n",
       "      <td>50.95</td>\n",
       "      <td>2024-04-16</td>\n",
       "      <td>65</td>\n",
       "      <td>0.05</td>\n",
       "    </tr>\n",
       "    <tr>\n",
       "      <th>3</th>\n",
       "      <td>30</td>\n",
       "      <td>2</td>\n",
       "      <td>Japan</td>\n",
       "      <td>109.90</td>\n",
       "      <td>9</td>\n",
       "      <td>346</td>\n",
       "      <td>1</td>\n",
       "      <td>Electronics</td>\n",
       "      <td>42.90</td>\n",
       "      <td>2020-07-08</td>\n",
       "      <td>93</td>\n",
       "      <td>0.19</td>\n",
       "    </tr>\n",
       "    <tr>\n",
       "      <th>4</th>\n",
       "      <td>29</td>\n",
       "      <td>1</td>\n",
       "      <td>Canada</td>\n",
       "      <td>269.38</td>\n",
       "      <td>16</td>\n",
       "      <td>342</td>\n",
       "      <td>0</td>\n",
       "      <td>Fashion</td>\n",
       "      <td>5.30</td>\n",
       "      <td>2025-04-09</td>\n",
       "      <td>79</td>\n",
       "      <td>0.15</td>\n",
       "    </tr>\n",
       "  </tbody>\n",
       "</table>\n",
       "</div>"
      ],
      "text/plain": [
       "   age  gender    country  avg_order_value  total_orders  last_purchase  \\\n",
       "0   30       1     Brazil           101.08             8            176   \n",
       "1   53       1        USA            90.39            10             88   \n",
       "2   73       0  Australia            83.28             6            203   \n",
       "3   30       2      Japan           109.90             9            346   \n",
       "4   29       1     Canada           269.38            16            342   \n",
       "\n",
       "   is_fraudulent preferred_category  email_open_rate customer_since  \\\n",
       "0              1             Beauty            25.60     2024-06-05   \n",
       "1              0        Electronics            12.30     2024-02-19   \n",
       "2              0             Sports            50.95     2024-04-16   \n",
       "3              1        Electronics            42.90     2020-07-08   \n",
       "4              0            Fashion             5.30     2025-04-09   \n",
       "\n",
       "   loyalty_score  churn_risk  \n",
       "0             50        0.20  \n",
       "1             37        0.34  \n",
       "2             65        0.05  \n",
       "3             93        0.19  \n",
       "4             79        0.15  "
      ]
     },
     "execution_count": 9,
     "metadata": {},
     "output_type": "execute_result"
    }
   ],
   "source": [
    "gender_clean = {\"gender\": {\"Female\": 1, \"Male\": 0,\"Other\":2}}\n",
    "df=df.replace(gender_clean)\n",
    "df.head()"
   ]
  },
  {
   "cell_type": "code",
   "execution_count": 10,
   "id": "e5d1ed6a",
   "metadata": {},
   "outputs": [],
   "source": [
    "df=pd.get_dummies(df, columns=[\"country\",\"preferred_category\"],prefix=[\"country\",\"cat\"])"
   ]
  },
  {
   "cell_type": "code",
   "execution_count": 11,
   "id": "caf71a25",
   "metadata": {},
   "outputs": [
    {
     "data": {
      "text/plain": [
       "(5000, 25)"
      ]
     },
     "execution_count": 11,
     "metadata": {},
     "output_type": "execute_result"
    }
   ],
   "source": [
    "df.shape"
   ]
  },
  {
   "cell_type": "markdown",
   "id": "6e24757e",
   "metadata": {},
   "source": [
    "Data Visualisation"
   ]
  },
  {
   "cell_type": "code",
   "execution_count": 12,
   "id": "56a7e4aa",
   "metadata": {},
   "outputs": [
    {
     "data": {
      "image/png": "[encoded data removed]",
      "text/plain": [
       "<Figure size 640x480 with 1 Axes>"
      ]
     },
     "metadata": {},
     "output_type": "display_data"
    }
   ],
   "source": [
    "sns.countplot(x='is_fraudulent', data=df)\n",
    "plt.title(\"Fraud vs Non-Fraud\")\n",
    "plt.show()"
   ]
  },
  {
   "cell_type": "code",
   "execution_count": 13,
   "id": "f124ab95",
   "metadata": {},
   "outputs": [
    {
     "data": {
      "image/png": "[encoded data removed]",
      "text/plain": [
       "<Figure size 640x480 with 1 Axes>"
      ]
     },
     "metadata": {},
     "output_type": "display_data"
    }
   ],
   "source": [
    "grouped = og.groupby(['country', 'preferred_category'])['is_fraudulent'].sum().reset_index()\n",
    "sns.barplot(x='country', y='is_fraudulent', hue='preferred_category', data=grouped)\n",
    "plt.xticks(rotation=45)\n",
    "plt.title(\"Fraudulent Customers by Country & Category\")\n",
    "plt.show()\n"
   ]
  },
  {
   "cell_type": "code",
   "execution_count": 14,
   "id": "1ac345e4",
   "metadata": {},
   "outputs": [
    {
     "data": {
      "image/png": "[encoded data removed]",
      "text/plain": [
       "<Figure size 640x480 with 1 Axes>"
      ]
     },
     "metadata": {},
     "output_type": "display_data"
    }
   ],
   "source": [
    "sns.scatterplot(x='is_fraudulent', y='avg_order_value', data=df)\n",
    "plt.title(\"Order Value by Fraud Status\")\n",
    "plt.show()"
   ]
  },
  {
   "cell_type": "code",
   "execution_count": null,
   "id": "d308417c",
   "metadata": {},
   "outputs": [
    {
     "data": {
      "image/png": "[encoded data removed]",
      "text/plain": [
       "<Figure size 640x480 with 1 Axes>"
      ]
     },
     "metadata": {},
     "output_type": "display_data"
    }
   ],
   "source": [
    "sns.scatterplot(x='is_fraudulent', y='age', data=df)\n",
    "plt.show()"
   ]
  },
  {
   "cell_type": "markdown",
   "id": "52365074",
   "metadata": {},
   "source": [
    "Model Training"
   ]
  },
  {
   "cell_type": "code",
   "execution_count": 16,
   "id": "b14291f4",
   "metadata": {},
   "outputs": [],
   "source": [
    "from sklearn.model_selection import train_test_split"
   ]
  },
  {
   "cell_type": "code",
   "execution_count": 17,
   "id": "0d9e228f",
   "metadata": {},
   "outputs": [],
   "source": [
    "X = df.drop(columns=['is_fraudulent','customer_since'])\n",
    "y = df['is_fraudulent']"
   ]
  },
  {
   "cell_type": "code",
   "execution_count": 18,
   "id": "a364ae2b",
   "metadata": {},
   "outputs": [],
   "source": [
    "X_train, X_test, y_train, y_test = train_test_split(X, y, test_size=0.2, random_state=42,stratify=y)"
   ]
  },
  {
   "cell_type": "code",
   "execution_count": 19,
   "id": "035ba945",
   "metadata": {},
   "outputs": [
    {
     "name": "stdout",
     "output_type": "stream",
     "text": [
      "\n",
      "Model: Logistic Regression\n",
      "              precision    recall  f1-score   support\n",
      "\n",
      "           0       0.98      0.55      0.71       974\n",
      "           1       0.04      0.62      0.07        26\n",
      "\n",
      "    accuracy                           0.56      1000\n",
      "   macro avg       0.51      0.58      0.39      1000\n",
      "weighted avg       0.96      0.56      0.69      1000\n",
      "\n",
      "\n",
      "Model: Random Forest\n",
      "              precision    recall  f1-score   support\n",
      "\n",
      "           0       0.97      1.00      0.99       974\n",
      "           1       0.00      0.00      0.00        26\n",
      "\n",
      "    accuracy                           0.97      1000\n",
      "   macro avg       0.49      0.50      0.49      1000\n",
      "weighted avg       0.95      0.97      0.96      1000\n",
      "\n"
     ]
    },
    {
     "name": "stderr",
     "output_type": "stream",
     "text": [
      "c:\\Users\\Chirag\\AppData\\Local\\Programs\\Python\\Lib\\site-packages\\sklearn\\metrics\\_classification.py:1706: UndefinedMetricWarning: Precision is ill-defined and being set to 0.0 in labels with no predicted samples. Use `zero_division` parameter to control this behavior.\n",
      "  _warn_prf(average, modifier, f\"{metric.capitalize()} is\", result.shape[0])\n",
      "c:\\Users\\Chirag\\AppData\\Local\\Programs\\Python\\Lib\\site-packages\\sklearn\\metrics\\_classification.py:1706: UndefinedMetricWarning: Precision is ill-defined and being set to 0.0 in labels with no predicted samples. Use `zero_division` parameter to control this behavior.\n",
      "  _warn_prf(average, modifier, f\"{metric.capitalize()} is\", result.shape[0])\n",
      "c:\\Users\\Chirag\\AppData\\Local\\Programs\\Python\\Lib\\site-packages\\sklearn\\metrics\\_classification.py:1706: UndefinedMetricWarning: Precision is ill-defined and being set to 0.0 in labels with no predicted samples. Use `zero_division` parameter to control this behavior.\n",
      "  _warn_prf(average, modifier, f\"{metric.capitalize()} is\", result.shape[0])\n"
     ]
    },
    {
     "name": "stdout",
     "output_type": "stream",
     "text": [
      "\n",
      "Model: KNN\n",
      "              precision    recall  f1-score   support\n",
      "\n",
      "           0       0.97      1.00      0.99       974\n",
      "           1       0.00      0.00      0.00        26\n",
      "\n",
      "    accuracy                           0.97      1000\n",
      "   macro avg       0.49      0.50      0.49      1000\n",
      "weighted avg       0.95      0.97      0.96      1000\n",
      "\n"
     ]
    },
    {
     "name": "stderr",
     "output_type": "stream",
     "text": [
      "c:\\Users\\Chirag\\AppData\\Local\\Programs\\Python\\Lib\\site-packages\\sklearn\\metrics\\_classification.py:1706: UndefinedMetricWarning: Precision is ill-defined and being set to 0.0 in labels with no predicted samples. Use `zero_division` parameter to control this behavior.\n",
      "  _warn_prf(average, modifier, f\"{metric.capitalize()} is\", result.shape[0])\n",
      "c:\\Users\\Chirag\\AppData\\Local\\Programs\\Python\\Lib\\site-packages\\sklearn\\metrics\\_classification.py:1706: UndefinedMetricWarning: Precision is ill-defined and being set to 0.0 in labels with no predicted samples. Use `zero_division` parameter to control this behavior.\n",
      "  _warn_prf(average, modifier, f\"{metric.capitalize()} is\", result.shape[0])\n",
      "c:\\Users\\Chirag\\AppData\\Local\\Programs\\Python\\Lib\\site-packages\\sklearn\\metrics\\_classification.py:1706: UndefinedMetricWarning: Precision is ill-defined and being set to 0.0 in labels with no predicted samples. Use `zero_division` parameter to control this behavior.\n",
      "  _warn_prf(average, modifier, f\"{metric.capitalize()} is\", result.shape[0])\n"
     ]
    }
   ],
   "source": [
    "from sklearn.linear_model import LogisticRegression\n",
    "from sklearn.ensemble import RandomForestClassifier\n",
    "from sklearn.neighbors import KNeighborsClassifier\n",
    "from sklearn.metrics import classification_report\n",
    "\n",
    "models = {\n",
    "    'Logistic Regression': LogisticRegression(max_iter=1000,class_weight='balanced'),\n",
    "    'Random Forest': RandomForestClassifier(random_state=42,class_weight='balanced'),\n",
    "    'KNN': KNeighborsClassifier()\n",
    "}\n",
    "\n",
    "for name, model in models.items():\n",
    "    model.fit(X_train, y_train)\n",
    "    y_pred = model.predict(X_test)\n",
    "    \n",
    "    print(f\"\\nModel: {name}\")\n",
    "    print(classification_report(y_test, y_pred))"
   ]
  },
  {
   "cell_type": "code",
   "execution_count": 20,
   "id": "6215be60",
   "metadata": {},
   "outputs": [
    {
     "name": "stdout",
     "output_type": "stream",
     "text": [
      "[LightGBM] [Info] Number of positive: 103, number of negative: 3897\n",
      "[LightGBM] [Info] Auto-choosing row-wise multi-threading, the overhead of testing was 0.000247 seconds.\n",
      "You can set `force_row_wise=true` to remove the overhead.\n",
      "And if memory is not enough, you can set `force_col_wise=true`.\n",
      "[LightGBM] [Info] Total Bins 1051\n",
      "[LightGBM] [Info] Number of data points in the train set: 4000, number of used features: 23\n",
      "[LightGBM] [Info] [binary:BoostFromScore]: pavg=0.500000 -> initscore=0.000000\n",
      "[LightGBM] [Info] Start training from score 0.000000\n",
      "              precision    recall  f1-score   support\n",
      "\n",
      "           0       0.97      0.96      0.97       974\n",
      "           1       0.05      0.08      0.06        26\n",
      "\n",
      "    accuracy                           0.93      1000\n",
      "   macro avg       0.51      0.52      0.51      1000\n",
      "weighted avg       0.95      0.93      0.94      1000\n",
      "\n"
     ]
    }
   ],
   "source": [
    "from lightgbm import LGBMClassifier\n",
    "\n",
    "lgbm = LGBMClassifier(class_weight='balanced',is_unbalance=True, random_state=42)\n",
    "lgbm.fit(X_train, y_train)\n",
    "y_pred = lgbm.predict(X_test)\n",
    "print(classification_report(y_test, y_pred, zero_division=0))"
   ]
  },
  {
   "cell_type": "code",
   "execution_count": 21,
   "id": "27c90e99",
   "metadata": {},
   "outputs": [
    {
     "name": "stdout",
     "output_type": "stream",
     "text": [
      "              precision    recall  f1-score   support\n",
      "\n",
      "           0       0.97      1.00      0.99       974\n",
      "           1       0.20      0.04      0.06        26\n",
      "\n",
      "    accuracy                           0.97      1000\n",
      "   macro avg       0.59      0.52      0.52      1000\n",
      "weighted avg       0.95      0.97      0.96      1000\n",
      "\n"
     ]
    },
    {
     "name": "stderr",
     "output_type": "stream",
     "text": [
      "c:\\Users\\Chirag\\AppData\\Local\\Programs\\Python\\Lib\\site-packages\\xgboost\\training.py:183: UserWarning: [15:38:26] WARNING: C:\\actions-runner\\_work\\xgboost\\xgboost\\src\\learner.cc:738: \n",
      "Parameters: { \"use_label_encoder\" } are not used.\n",
      "\n",
      "  bst.update(dtrain, iteration=i, fobj=obj)\n"
     ]
    }
   ],
   "source": [
    "from xgboost import XGBClassifier\n",
    "\n",
    "scale = (y_train == 0).sum() / (y_train == 1).sum()\n",
    "\n",
    "xgb_model = XGBClassifier(scale_pos_weight=scale, use_label_encoder=False, eval_metric='logloss')\n",
    "xgb_model.fit(X_train, y_train)\n",
    "y_pred = xgb_model.predict(X_test)\n",
    "\n",
    "print(classification_report(y_test, y_pred, zero_division=0))\n"
   ]
  },
  {
   "cell_type": "code",
   "execution_count": 22,
   "id": "30fdfc76",
   "metadata": {},
   "outputs": [
    {
     "name": "stdout",
     "output_type": "stream",
     "text": [
      "Best parameters: {'C': 0.1, 'penalty': 'l2', 'solver': 'liblinear'}\n",
      "Best recall score (CV): 0.44761904761904764\n",
      "              precision    recall  f1-score   support\n",
      "\n",
      "           0       0.98      0.55      0.70       974\n",
      "           1       0.04      0.62      0.07        26\n",
      "\n",
      "    accuracy                           0.55      1000\n",
      "   macro avg       0.51      0.58      0.39      1000\n",
      "weighted avg       0.96      0.55      0.69      1000\n",
      "\n"
     ]
    }
   ],
   "source": [
    "from sklearn.model_selection import GridSearchCV\n",
    "\n",
    "param_grid = {\n",
    "    'C': [0.01, 0.1, 1, 10, 100],\n",
    "    'penalty': ['l2'],  \n",
    "    'solver': ['liblinear'],  \n",
    "}\n",
    "\n",
    "logreg = LogisticRegression(class_weight='balanced', max_iter=1000)\n",
    "grid = GridSearchCV(logreg, param_grid, scoring='recall', cv=5)\n",
    "grid.fit(X_train, y_train)\n",
    "\n",
    "print(\"Best parameters:\", grid.best_params_)\n",
    "print(\"Best recall score (CV):\", grid.best_score_)\n",
    "\n",
    "# Evaluate on test set\n",
    "best_model = grid.best_estimator_\n",
    "y_pred = best_model.predict(X_test)\n",
    "print(classification_report(y_test, y_pred, zero_division=0))\n"
   ]
  },
  {
   "cell_type": "code",
   "execution_count": 23,
   "id": "3790573a",
   "metadata": {},
   "outputs": [],
   "source": [
    "#We can see that Logistic Regression is giving the best results"
   ]
  },
  {
   "cell_type": "code",
   "execution_count": 24,
   "id": "f5d38afb",
   "metadata": {},
   "outputs": [],
   "source": [
    "import joblib"
   ]
  },
  {
   "cell_type": "code",
   "execution_count": 25,
   "id": "67245b6b",
   "metadata": {},
   "outputs": [
    {
     "data": {
      "text/plain": [
       "['logistic.pkl']"
      ]
     },
     "execution_count": 25,
     "metadata": {},
     "output_type": "execute_result"
    }
   ],
   "source": [
    "joblib.dump(models['Logistic Regression'],'logistic.pkl')"
   ]
  }
 ],
 "metadata": {
  "kernelspec": {
   "display_name": "Python 3",
   "language": "python",
   "name": "python3"
  },
  "language_info": {
   "codemirror_mode": {
    "name": "ipython",
    "version": 3
   },
   "file_extension": ".py",
   "mimetype": "text/x-python",
   "name": "python",
   "nbconvert_exporter": "python",
   "pygments_lexer": "ipython3",
   "version": "3.13.2"
  }
 },
 "nbformat": 4,
 "nbformat_minor": 5
}
